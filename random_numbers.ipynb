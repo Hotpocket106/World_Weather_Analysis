{
 "cells": [
  {
   "cell_type": "code",
   "execution_count": 14,
   "id": "d0f1606c",
   "metadata": {},
   "outputs": [],
   "source": [
    "import random\n",
    "import numpy as np\n",
    "import timeit"
   ]
  },
  {
   "cell_type": "code",
   "execution_count": 15,
   "id": "38fce6c5",
   "metadata": {},
   "outputs": [
    {
     "data": {
      "text/plain": [
       "0.333302141624644"
      ]
     },
     "execution_count": 15,
     "metadata": {},
     "output_type": "execute_result"
    }
   ],
   "source": [
    "random.random()"
   ]
  },
  {
   "cell_type": "code",
   "execution_count": 16,
   "id": "1e047ee9",
   "metadata": {},
   "outputs": [
    {
     "data": {
      "text/plain": [
       "72"
      ]
     },
     "execution_count": 16,
     "metadata": {},
     "output_type": "execute_result"
    }
   ],
   "source": [
    "random.randrange(-100,100,step=1)"
   ]
  },
  {
   "cell_type": "code",
   "execution_count": 17,
   "id": "f6e2a9dd",
   "metadata": {},
   "outputs": [
    {
     "data": {
      "text/plain": [
       "-4.3329343618653695"
      ]
     },
     "execution_count": 17,
     "metadata": {},
     "output_type": "execute_result"
    }
   ],
   "source": [
    "random.uniform(-100,100)"
   ]
  },
  {
   "cell_type": "raw",
   "id": "454c857e",
   "metadata": {},
   "source": []
  },
  {
   "cell_type": "code",
   "execution_count": 18,
   "id": "3efaf73d",
   "metadata": {},
   "outputs": [
    {
     "data": {
      "text/plain": [
       "array([ 42.48379641, -70.27439841,  67.58412322,  39.62653769,\n",
       "        -6.15879426, -79.68469282, -75.28697605, -32.65547333,\n",
       "       -38.78386894, -19.53906977,   7.56717041, -83.53331789,\n",
       "        82.86306515,  44.4984055 ,  82.59773104, -70.03146694,\n",
       "       -81.43742049, -86.35378546,  34.00228784,  24.47072404,\n",
       "        61.65547329, -43.42660182, -71.22462273,   3.28829868,\n",
       "       -39.29742427,   2.55151068, -27.24168413, -83.20987116,\n",
       "       -87.76515583, -68.58038476,  50.79215841,  16.94925504,\n",
       "        -4.05331127, -30.16825905, -52.21393798, -23.74953346,\n",
       "        88.2058562 ,  24.07047138, -80.92088689,  17.40287665,\n",
       "        59.4221237 , -61.13589257, -16.20241006,  30.70852178,\n",
       "       -45.40549693, -61.87014009, -45.038988  , -62.22758196,\n",
       "        59.32265516, -66.78040182])"
      ]
     },
     "execution_count": 18,
     "metadata": {},
     "output_type": "execute_result"
    }
   ],
   "source": [
    "np.random.uniform(-90,90,size=50)"
   ]
  },
  {
   "cell_type": "code",
   "execution_count": 19,
   "id": "3d921738",
   "metadata": {},
   "outputs": [
    {
     "name": "stdout",
     "output_type": "stream",
     "text": [
      "2.26 µs ± 11.5 ns per loop (mean ± std. dev. of 7 runs, 100,000 loops each)\n"
     ]
    }
   ],
   "source": [
    "%timeit np.random.uniform(-90,90,size=50)"
   ]
  },
  {
   "cell_type": "code",
   "execution_count": 20,
   "id": "331e4638",
   "metadata": {},
   "outputs": [
    {
     "name": "stdout",
     "output_type": "stream",
     "text": [
      "961 µs ± 5.92 µs per loop (mean ± std. dev. of 7 runs, 1,000 loops each)\n"
     ]
    }
   ],
   "source": [
    "def latitudes(size):\n",
    "    latitudes = []\n",
    "    x = 0\n",
    "    while x < (size):\n",
    "        random_lat = random.randint(-90, 90) + random.random()\n",
    "        latitudes.append(random_lat)\n",
    "        x += 1\n",
    "    return latitudes\n",
    "# Call the function with 1500.\n",
    "%timeit latitudes(1500)"
   ]
  },
  {
   "cell_type": "code",
   "execution_count": 21,
   "id": "6eab1c73",
   "metadata": {},
   "outputs": [
    {
     "name": "stdout",
     "output_type": "stream",
     "text": [
      "947 µs ± 3.8 µs per loop (mean ± std. dev. of 7 runs, 1,000 loops each)\n"
     ]
    }
   ],
   "source": [
    "%timeit latitudes(1500)"
   ]
  },
  {
   "cell_type": "code",
   "execution_count": null,
   "id": "c95dcebd",
   "metadata": {},
   "outputs": [],
   "source": []
  }
 ],
 "metadata": {
  "kernelspec": {
   "display_name": "Python 3 (ipykernel)",
   "language": "python",
   "name": "python3"
  },
  "language_info": {
   "codemirror_mode": {
    "name": "ipython",
    "version": 3
   },
   "file_extension": ".py",
   "mimetype": "text/x-python",
   "name": "python",
   "nbconvert_exporter": "python",
   "pygments_lexer": "ipython3",
   "version": "3.9.12"
  }
 },
 "nbformat": 4,
 "nbformat_minor": 5
}
